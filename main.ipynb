{
 "cells": [
  {
   "cell_type": "code",
   "execution_count": null,
   "metadata": {
    "vscode": {
     "languageId": "plaintext"
    }
   },
   "outputs": [],
   "source": [
    "import pandas as pd\n",
    "import matplotlib.pyplot as plt\n",
    "import seaborn as sns"
   ]
  },
  {
   "cell_type": "code",
   "execution_count": null,
   "metadata": {
    "vscode": {
     "languageId": "plaintext"
    }
   },
   "outputs": [],
   "source": [
    "data_path = 'outbreaks.csv'\n",
    "df = pd.read_csv(data_path)"
   ]
  },
  {
   "cell_type": "code",
   "execution_count": null,
   "metadata": {
    "vscode": {
     "languageId": "plaintext"
    }
   },
   "outputs": [],
   "source": [
    "required_columns = ['Year', 'Month', 'Illnesses']\n",
    "for col in required_columns:\n",
    "    if col not in df.columns:\n",
    "        raise ValueError(f\"Missing required column: {col}\")"
   ]
  },
  {
   "cell_type": "code",
   "execution_count": null,
   "metadata": {
    "vscode": {
     "languageId": "plaintext"
    }
   },
   "outputs": [],
   "source": [
    "df['Illnesses'] = df['Illnesses'].fillna(0)"
   ]
  },
  {
   "cell_type": "code",
   "execution_count": null,
   "metadata": {
    "vscode": {
     "languageId": "plaintext"
    }
   },
   "outputs": [],
   "source": [
    "month_mapping = {\n",
    "    'January': 1, 'February': 2, 'March': 3, 'April': 4, 'May': 5, 'June': 6,\n",
    "    'July': 7, 'August': 8, 'September': 9, 'October': 10, 'November': 11, 'December': 12\n",
    "}\n"
   ]
  },
  {
   "cell_type": "code",
   "execution_count": null,
   "metadata": {
    "vscode": {
     "languageId": "plaintext"
    }
   },
   "outputs": [],
   "source": [
    "if df['Month'].dtype == object:\n",
    "    df['Month'] = df['Month'].map(month_mapping)"
   ]
  },
  {
   "cell_type": "code",
   "execution_count": null,
   "metadata": {
    "vscode": {
     "languageId": "plaintext"
    }
   },
   "outputs": [],
   "source": [
    "df['Date'] = pd.to_datetime(df[['Year', 'Month']].assign(DAY=1))"
   ]
  },
  {
   "cell_type": "code",
   "execution_count": null,
   "metadata": {
    "vscode": {
     "languageId": "plaintext"
    }
   },
   "outputs": [],
   "source": [
    "time_data = df.groupby('Date')[['Illnesses']].sum().reset_index()"
   ]
  },
  {
   "cell_type": "code",
   "execution_count": null,
   "metadata": {
    "vscode": {
     "languageId": "plaintext"
    }
   },
   "outputs": [],
   "source": [
    "sns.set(style=\"whitegrid\")\n",
    "plt.figure(figsize=(14, 7))\n",
    "sns.lineplot(x='Date', y='Illnesses', data=time_data, marker='o', label='Total Illnesses')\n",
    "plt.title('Trend of Foodborne Illnesses Over Time', fontsize=16)\n",
    "plt.xlabel('Time (Year-Month)', fontsize=12)\n",
    "plt.ylabel('Total Illnesses', fontsize=12)\n",
    "plt.xticks(rotation=45)\n",
    "plt.legend()\n",
    "plt.grid(True)\n",
    "plt.show()"
   ]
  },
  {
   "cell_type": "code",
   "execution_count": null,
   "metadata": {
    "vscode": {
     "languageId": "plaintext"
    }
   },
   "outputs": [],
   "source": [
    "time_data['Rolling_Avg'] = time_data['Illnesses'].rolling(window=6).mean()  # 6-month rolling average\n",
    "plt.figure(figsize=(14, 6))\n",
    "sns.lineplot(x='Date', y='Illnesses', data=time_data, label='Original', alpha=0.4, linestyle='--')\n",
    "sns.lineplot(x='Date', y='Rolling_Avg', data=time_data, label='6-Month Rolling Average', color='red')\n",
    "plt.title('Trend with 6-Month Rolling Average', fontsize=16)\n",
    "plt.xlabel('Time (Year-Month)', fontsize=12)\n",
    "plt.ylabel('Total Illnesses', fontsize=12)\n",
    "plt.legend()\n",
    "plt.grid(True)\n",
    "plt.show()"
   ]
  },
  {
   "cell_type": "code",
   "execution_count": null,
   "metadata": {
    "vscode": {
     "languageId": "plaintext"
    }
   },
   "outputs": [],
   "source": [
    "yearly_data = df.groupby('Year')[['Illnesses']].sum().reset_index()\n",
    "plt.figure(figsize=(12, 6))\n",
    "sns.barplot(x='Year', y='Illnesses', data=yearly_data, palette='viridis')\n",
    "plt.title('Total Illnesses by Year', fontsize=16)\n",
    "plt.xlabel('Year', fontsize=12)\n",
    "plt.ylabel('Total Illnesses', fontsize=12)\n",
    "plt.xticks(rotation=45)\n",
    "plt.show()"
   ]
  },
  {
   "cell_type": "code",
   "execution_count": null,
   "metadata": {
    "vscode": {
     "languageId": "plaintext"
    }
   },
   "outputs": [],
   "source": [
    "df['Month'] = pd.Categorical(df['Month'], categories=range(1, 13), ordered=True)\n",
    "monthly_data = df.groupby(['Year', 'Month'])[['Illnesses']].sum().reset_index()\n",
    "monthly_data['Month'] = monthly_data['Month'].map({v: k for k, v in month_mapping.items()})  # Map month back to names\n",
    "\n",
    "plt.figure(figsize=(14, 7))\n",
    "sns.boxplot(x='Month', y='Illnesses', data=monthly_data, palette='coolwarm')\n",
    "plt.title('Monthly Variation in Foodborne Illnesses', fontsize=16)\n",
    "plt.xlabel('Month', fontsize=12)\n",
    "plt.ylabel('Illnesses', fontsize=12)\n",
    "plt.xticks(rotation=45)\n",
    "plt.grid(True)\n",
    "plt.show()"
   ]
  },
  {
   "cell_type": "code",
   "execution_count": null,
   "metadata": {
    "vscode": {
     "languageId": "plaintext"
    }
   },
   "outputs": [],
   "source": [
    "factors = ['Food', 'Ingredient', 'Species', 'Serotype/Genotype']\n",
    "factor_analysis = {}\n",
    "\n",
    "for factor in factors:\n",
    "    grouped_data = df.groupby(factor)[['Illnesses']].sum().reset_index().sort_values(by='Illnesses', ascending=False)\n",
    "    factor_analysis[factor] = grouped_data\n",
    "    print(f\"\\nTop factors for {factor} contributing to illnesses:\")\n",
    "    print(grouped_data.head(10))"
   ]
  },
  {
   "cell_type": "code",
   "execution_count": null,
   "metadata": {
    "vscode": {
     "languageId": "plaintext"
    }
   },
   "outputs": [],
   "source": [
    "plt.figure(figsize=(12, 6))\n",
    "sns.barplot(x='Illnesses', y=factor, data=grouped_data.head(10), palette='viridis')\n",
    "plt.title(f'Top 10 {factor} Contributing to Illnesses', fontsize=16)\n",
    "plt.xlabel('Total Illnesses', fontsize=12)\n",
    "plt.ylabel(factor, fontsize=12)\n",
    "plt.grid(True)\n",
    "plt.show()"
   ]
  },
  {
   "cell_type": "code",
   "execution_count": null,
   "metadata": {
    "vscode": {
     "languageId": "plaintext"
    }
   },
   "outputs": [],
   "source": [
    "factor_totals = {}\n",
    "\n",
    "for factor in factors:\n",
    "    total_illnesses = df.groupby(factor)['Illnesses'].sum().sum()  # Sum illnesses for the factor\n",
    "    factor_totals[factor] = total_illnesses"
   ]
  },
  {
   "cell_type": "code",
   "execution_count": null,
   "metadata": {
    "vscode": {
     "languageId": "plaintext"
    }
   },
   "outputs": [],
   "source": [
    "factor_comparison = pd.DataFrame(list(factor_totals.items()), columns=['Factor', 'Total_Illnesses'])\n",
    "factor_comparison = factor_comparison.sort_values(by='Total_Illnesses', ascending=False)\n",
    "print(\"\\nTotal Illnesses by Factor:\")\n",
    "print(factor_comparison)"
   ]
  },
  {
   "cell_type": "code",
   "execution_count": null,
   "metadata": {
    "vscode": {
     "languageId": "plaintext"
    }
   },
   "outputs": [],
   "source": [
    "plt.figure(figsize=(10, 6))\n",
    "sns.barplot(x='Total_Illnesses', y='Factor', data=factor_comparison, palette='coolwarm')\n",
    "plt.title('Prominent Factor Contributing to Illnesses', fontsize=16)\n",
    "plt.xlabel('Total Illnesses', fontsize=12)\n",
    "plt.ylabel('Factor', fontsize=12)\n",
    "plt.grid(True)\n",
    "plt.show()"
   ]
  },
  {
   "cell_type": "code",
   "execution_count": null,
   "metadata": {
    "vscode": {
     "languageId": "plaintext"
    }
   },
   "outputs": [],
   "source": [
    "for factor in factors:\n",
    "    grouped_data = df.groupby(factor)['Hospitalizations'].sum().reset_index().sort_values(by='Hospitalizations', ascending=False)\n",
    "    factor_totals[factor] = grouped_data\n",
    "    print(f\"\\nTop factors for {factor} contributing to hospitalizations:\")\n",
    "    print(grouped_data.head(10))"
   ]
  },
  {
   "cell_type": "code",
   "execution_count": null,
   "metadata": {
    "vscode": {
     "languageId": "plaintext"
    }
   },
   "outputs": [],
   "source": [
    "plt.figure(figsize=(12, 6))\n",
    "sns.barplot(x='Hospitalizations', y=factor, data=grouped_data.head(10), palette='viridis')\n",
    "plt.title(f'Top 10 {factor} Contributing to Hospitalizations', fontsize=16)\n",
    "plt.xlabel('Total Hospitalizations', fontsize=12)\n",
    "plt.ylabel(factor, fontsize=12)\n",
    "plt.grid(True)\n",
    "plt.show()"
   ]
  },
  {
   "cell_type": "code",
   "execution_count": null,
   "metadata": {
    "vscode": {
     "languageId": "plaintext"
    }
   },
   "outputs": [],
   "source": [
    "total_hospitalizations_by_factor = {factor: df.groupby(factor)['Hospitalizations'].sum().sum() for factor in factors}\n",
    "\n",
    "comparison_df = pd.DataFrame(total_hospitalizations_by_factor.items(), columns=['Factor', 'Total_Hospitalizations']).sort_values(by='Total_Hospitalizations', ascending=False)\n",
    "\n",
    "# Visualize the comparison\n",
    "plt.figure(figsize=(10, 6))\n",
    "sns.barplot(x='Total_Hospitalizations', y='Factor', data=comparison_df, palette='coolwarm')\n",
    "plt.title('Prominent Factor Contributing to Hospitalizations', fontsize=16)\n",
    "plt.xlabel('Total Hospitalizations', fontsize=12)\n",
    "plt.ylabel('Factor', fontsize=12)\n",
    "plt.grid(True)\n",
    "plt.show()"
   ]
  },
  {
   "cell_type": "code",
   "execution_count": null,
   "metadata": {
    "vscode": {
     "languageId": "plaintext"
    }
   },
   "outputs": [],
   "source": [
    "total_fatalities_by_factor = {}\n",
    "\n",
    "for factor in factors:\n",
    "  total_fatalities = df.groupby(factor)['Fatalities'].sum().sum()  # Sum fatalities for the factor\n",
    "  total_fatalities_by_factor[factor] = total_fatalities"
   ]
  },
  {
   "cell_type": "code",
   "execution_count": null,
   "metadata": {
    "vscode": {
     "languageId": "plaintext"
    }
   },
   "outputs": [],
   "source": [
    "comparison_df = pd.DataFrame(\n",
    "    list(total_fatalities_by_factor.items()),\n",
    "    columns=['Factor', 'Total_Fatalities']\n",
    ").sort_values(by='Total_Fatalities', ascending=False)"
   ]
  },
  {
   "cell_type": "code",
   "execution_count": null,
   "metadata": {
    "vscode": {
     "languageId": "plaintext"
    }
   },
   "outputs": [],
   "source": [
    "print(\"\\nTotal Fatalities by Factor:\")\n",
    "print(comparison_df)\n",
    "\n",
    "# Visualize the comparison\n",
    "plt.figure(figsize=(10, 6))\n",
    "sns.barplot(x='Total_Fatalities', y='Factor', data=comparison_df, palette='coolwarm')\n",
    "plt.title('Prominent Factors Contributing to Fatalities', fontsize=16)\n",
    "plt.xlabel('Total Fatalities', fontsize=12)\n",
    "plt.ylabel('Factor', fontsize=12)\n",
    "plt.grid(True)\n",
    "plt.show()"
   ]
  },
  {
   "cell_type": "code",
   "execution_count": null,
   "metadata": {
    "vscode": {
     "languageId": "plaintext"
    }
   },
   "outputs": [],
   "source": [
    "location_data = df.groupby('Location')['Illnesses'].sum().reset_index().sort_values(by='Illnesses', ascending=False)\n",
    "\n",
    "# Display top locations\n",
    "print(\"\\nTop Locations Contributing to Foodborne Illnesses:\")\n",
    "print(location_data)\n",
    "\n",
    "# Visualize the data\n",
    "plt.figure(figsize=(12, 6))\n",
    "sns.barplot(x='Illnesses', y='Location', data=location_data.head(10), palette='coolwarm')\n",
    "plt.title('Top Locations Contributing to Foodborne Illnesses', fontsize=16)\n",
    "plt.xlabel('Total Illnesses', fontsize=12)\n",
    "plt.ylabel('Location', fontsize=12)\n",
    "plt.grid(True)\n",
    "plt.show()"
   ]
  },
  {
   "cell_type": "code",
   "execution_count": null,
   "metadata": {
    "vscode": {
     "languageId": "plaintext"
    }
   },
   "outputs": [],
   "source": [
    "state_data = df.groupby('State')['Illnesses'].sum().reset_index().sort_values(by='Illnesses', ascending=False)\n",
    "\n",
    "# Display top states\n",
    "print(\"\\nTop States Contributing to Foodborne Illnesses:\")\n",
    "print(state_data.head(10))\n",
    "\n",
    "# Visualize the data\n",
    "plt.figure(figsize=(12, 6))\n",
    "sns.barplot(x='Illnesses', y='State', data=state_data.head(10), palette='viridis')\n",
    "plt.title('Top States Contributing to Foodborne Illnesses', fontsize=16)\n",
    "plt.xlabel('Total Illnesses', fontsize=12)\n",
    "plt.ylabel('State', fontsize=12)\n",
    "plt.grid(True)\n",
    "plt.show()"
   ]
  },
  {
   "cell_type": "code",
   "execution_count": null,
   "metadata": {
    "vscode": {
     "languageId": "plaintext"
    }
   },
   "outputs": [],
   "source": []
  }
 ],
 "metadata": {
  "language_info": {
   "name": "python"
  }
 },
 "nbformat": 4,
 "nbformat_minor": 2
}
